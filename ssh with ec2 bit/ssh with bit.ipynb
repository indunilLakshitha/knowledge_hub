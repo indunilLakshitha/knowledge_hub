{
 "cells": [
  {
   "cell_type": "markdown",
   "metadata": {},
   "source": [
    "# Generate and encrypt the key first.\n",
    "$ ssh-keygen \n",
    "Generating public/private rsa key pair.\n",
    "Enter file in which to save the key (/home/test/.ssh/id_rsa): \n",
    "Created directory '/home/test/.ssh'.\n",
    "Enter passphrase (empty for no passphrase): \n",
    "Enter same passphrase again: \n",
    "Your identification has been saved in /home/test/.ssh/id_rsa.\n",
    "Your public key has been saved in /home/test/.ssh/id_rsa.pub.\n",
    "The key fingerprint is:\n",
    "ec:38:bc:94:35:34:55:2b:9a:8d:44:d8:f0:93:09:fb test@joshua\n",
    "The key's randomart image is:\n",
    "+--[ RSA 2048]----+\n",
    "|      o+. ...    |\n",
    "|      .=.+   .   |\n",
    "|      . O . .    |\n",
    "|       = B .     |\n",
    "|        E .      |\n",
    "|     . = .       |\n",
    "|      * .        |\n",
    "|     . o         |\n",
    "|      .          |\n",
    "+-----------------+\n",
    "\n",
    "# Copy the public key to my remote server, conveniently called\n",
    "# 'name-of-remote-server'. Note that it will ask you the password\n",
    "# of the remote server.\n",
    "$ ssh-copy-id name-of-remote-server\n",
    "The authenticity of host 'name-of-remote-server (144.144.144.144)' can't be established.\n",
    "ECDSA key fingerprint is 9f:1e:ab:b6:ff:71:88:a9:98:7a:8d:f1:42:7d:8c:20.\n",
    "Are you sure you want to continue connecting (yes/no)? yes\n",
    "/usr/bin/ssh-copy-id: INFO: attempting to log in with the new key(s), to filter out any that are already installed\n",
    "/usr/bin/ssh-copy-id: INFO: 1 key(s) remain to be installed -- if you are prompted now it is to install the new keys\n",
    "Password:\n",
    "...\n",
    "\n",
    "# Try now to login into the remote server. SSH will now ask you\n",
    "# for your passphrase, what you used to encrypt your private key on\n",
    "# disk, what you gave to ssh-keygen above.\n",
    "$ ssh name-of-remote-server\n",
    "...\n",
    "\n",
    "# Let's say you have multiple keys, or you decided to store your key\n",
    "# in a non standard place, and want to provide a specific one for a given\n",
    "# host, you can use the -i option.\n",
    "$ ssh -i /home/test/.ssh/id_rsa name-of-remote-server"
   ]
  },
  {
   "cell_type": "markdown",
   "metadata": {},
   "source": [
    "You start an ssh-agent by running something like:"
   ]
  },
  {
   "cell_type": "code",
   "execution_count": null,
   "metadata": {},
   "outputs": [],
   "source": [
    "eval `ssh-agent`"
   ]
  },
  {
   "cell_type": "markdown",
   "metadata": {},
   "source": [
    "in your shell. You can then feed it keys, with ssh-add like:"
   ]
  },
  {
   "cell_type": "code",
   "execution_count": null,
   "metadata": {},
   "outputs": [],
   "source": [
    "\n",
    "ssh-add /home/test/.ssh/id_rsa"
   ]
  },
  {
   "cell_type": "code",
   "execution_count": null,
   "metadata": {},
   "outputs": [],
   "source": [
    "ssh-add"
   ]
  }
 ],
 "metadata": {
  "language_info": {
   "name": "python"
  },
  "orig_nbformat": 4
 },
 "nbformat": 4,
 "nbformat_minor": 2
}
